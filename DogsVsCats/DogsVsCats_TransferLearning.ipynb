{
 "cells": [
  {
   "cell_type": "code",
   "execution_count": 1,
   "metadata": {},
   "outputs": [],
   "source": [
    "import numpy as np\n",
    "import os\n",
    "import tensorflow as tf\n",
    "from tensorflow.keras import layers\n",
    "from tensorflow.keras import Model\n",
    "import random\n",
    "from shutil import copyfile"
   ]
  },
  {
   "cell_type": "markdown",
   "metadata": {},
   "source": [
    "# Loading the Inception V3 model"
   ]
  },
  {
   "cell_type": "code",
   "execution_count": null,
   "metadata": {},
   "outputs": [
    {
     "name": "stdout",
     "output_type": "stream",
     "text": [
      "WARNING:tensorflow:From /anaconda3/lib/python3.7/site-packages/tensorflow/python/ops/resource_variable_ops.py:435: colocate_with (from tensorflow.python.framework.ops) is deprecated and will be removed in a future version.\n",
      "Instructions for updating:\n",
      "Colocations handled automatically by placer.\n"
     ]
    }
   ],
   "source": [
    "from tensorflow.keras.applications.inception_v3 import InceptionV3\n",
    "local_weights_file = 'inception_v3_weights_tf_dim_ordering_tf_kernels_notop.h5'\n",
    "\n",
    "pretrained_model = InceptionV3(input_shape=(150,150,3),include_top=False,weights=local_weights_file)\n",
    "\n",
    "for layer in pretrained_model.layers:\n",
    "    layer.trainable = False\n",
    "\n",
    "#pretrained_model.load_weights(local_weights_file)"
   ]
  },
  {
   "cell_type": "code",
   "execution_count": null,
   "metadata": {},
   "outputs": [],
   "source": [
    "pretrained_model.summary()"
   ]
  },
  {
   "cell_type": "code",
   "execution_count": null,
   "metadata": {},
   "outputs": [],
   "source": [
    "last_layer = pretrained_model.get_layer('mixed7')\n",
    "last_output = last_layer.output"
   ]
  },
  {
   "cell_type": "code",
   "execution_count": null,
   "metadata": {},
   "outputs": [],
   "source": [
    "last_layer.output_shape"
   ]
  },
  {
   "cell_type": "code",
   "execution_count": null,
   "metadata": {},
   "outputs": [],
   "source": [
    "# Callbacks for stopping training after a certain % of accuracy is reached\n",
    "class MyCallbacks(tf.keras.callbacks.Callback):\n",
    "    def on_epoch_stop(self,epoch,logs={}):\n",
    "        if (logs.get['acc'] > .95):\n",
    "            \n",
    "            print (\"Stopping the training as 95% acccuracy is reached\")\n",
    "            self.model.stop_training= False"
   ]
  },
  {
   "cell_type": "code",
   "execution_count": null,
   "metadata": {},
   "outputs": [],
   "source": [
    "from tensorflow.keras.optimizers import RMSprop\n",
    "\n",
    "x = layers.Flatten()(last_output)\n",
    "x = layers.Dense(1024,activation='relu')(x)\n",
    "x = layers.Dropout(rate=0.2)(x)\n",
    "x = layers.Dense(1,activation='sigmoid')(x)\n",
    "\n",
    "# Connect the initial layers and the changed layers\n",
    "model = Model(pretrained_model.input,x)\n",
    "\n",
    "model.compile(optimizer=RMSprop(lr=0.001),\n",
    "              loss='binary_crossentropy',\n",
    "              metrics=['acc'])"
   ]
  },
  {
   "cell_type": "code",
   "execution_count": null,
   "metadata": {},
   "outputs": [],
   "source": [
    "def split_data(Source,Training,Testing,Split_size):\n",
    "    files = []\n",
    "    for filename in os.listdir(Source):\n",
    "        file = Source + filename\n",
    "        if os.path.getsize(file) > 0:\n",
    "            files.append(filename)\n",
    "        else:\n",
    "            print (filename + \" \" + \"is zero size file\")\n",
    "    # Splitting based on random set\n",
    "    training_length = int(len(files)*Split_size)\n",
    "    testing_length = int(len(files)-training_length)\n",
    "    shuffled_set = random.sample(files,len(files))\n",
    "    training_set = shuffled_set[0:training_length]\n",
    "    testing_set = shuffled_set[-testing_length:]\n",
    "    \n",
    "    #copying the file \n",
    "    for filename in training_set:\n",
    "        this_file = Source + filename\n",
    "        destination = Training + filename\n",
    "        copyfile(this_file,destination)\n",
    "    for filename in testing_set:\n",
    "        this_file = Source + filename\n",
    "        destination = Testing + filename\n",
    "        copyfile(this_file,destination)\n",
    "        \n",
    "Cat_Source_Dir = 'Data/PetImages/Cat/'\n",
    "Cat_Training_Dir = 'Data/cats-v-dogs/training/cats/'\n",
    "Cat_Testing_Dir = 'Data/cats-v-dogs/testing/cats/'\n",
    "Dog_Source_Dir = 'Data/PetImages/Dog/'\n",
    "Dog_Training_Dir = 'Data/cats-v-dogs/training/dogs/'\n",
    "Dog_Testing_Dir = 'Data/cats-v-dogs/testing/dogs/'\n",
    "\n",
    "split_size = 0.9\n",
    "split_data(Cat_Source_Dir,Cat_Training_Dir,Cat_Testing_Dir,split_size)\n",
    "split_data(Dog_Source_Dir,Dog_Training_Dir,Dog_Testing_Dir,split_size)"
   ]
  },
  {
   "cell_type": "code",
   "execution_count": null,
   "metadata": {},
   "outputs": [],
   "source": [
    "print (len(os.listdir('Data/cats-v-dogs/training/dogs/')))\n",
    "print (len(os.listdir('Data/cats-v-dogs/training/cats/')))\n",
    "print (len(os.listdir('Data/cats-v-dogs/testing/dogs/')))\n",
    "print (len(os.listdir('Data/cats-v-dogs/testing/cats/')))"
   ]
  },
  {
   "cell_type": "code",
   "execution_count": null,
   "metadata": {},
   "outputs": [],
   "source": [
    "callbacks = MyCallbacks()"
   ]
  },
  {
   "cell_type": "markdown",
   "metadata": {},
   "source": [
    "# Data Augmentation of Dogs and Cats data"
   ]
  },
  {
   "cell_type": "code",
   "execution_count": null,
   "metadata": {},
   "outputs": [],
   "source": [
    "from tensorflow.keras.preprocessing.image import ImageDataGenerator\n",
    "Training_Dir = 'Data/cats-v-dogs/training'\n",
    "\n",
    "train_gen = ImageDataGenerator(rescale=1./255.,\n",
    "                              rotation_range=50,\n",
    "                               width_shift_range=0.2,\n",
    "                               height_shift_range=0.2,\n",
    "                               vertical_flip=True,\n",
    "                               horizontal_flip= True)\n",
    "\n",
    "training_generator = train_gen.flow_from_directory(directory=Training_Dir,target_size=(150,150),class_mode='binary',batch_size=32)\n",
    "\n",
    "Validation_Dir ='Data/cats-v-dogs/testing/'\n",
    "validation_gen = ImageDataGenerator(rescale=1.0/255.,\n",
    "                                    rotation_range=50,\n",
    "                                   width_shift_range=0.2,\n",
    "                                   height_shift_range=0.2,\n",
    "                                   vertical_flip=True,\n",
    "                                   horizontal_flip= True\n",
    "                                   )\n",
    "validation_generator = validation_gen.flow_from_directory(directory=Validation_Dir,batch_size=32,class_mode='binary',target_size=(150,150))"
   ]
  },
  {
   "cell_type": "code",
   "execution_count": null,
   "metadata": {},
   "outputs": [],
   "source": [
    "history = model.fit_generator(training_generator,epochs=2,verbose=1,callbacks=[callbacks],validation_data=validation_generator)"
   ]
  },
  {
   "cell_type": "code",
   "execution_count": null,
   "metadata": {},
   "outputs": [],
   "source": []
  }
 ],
 "metadata": {
  "kernelspec": {
   "display_name": "Python 3",
   "language": "python",
   "name": "python3"
  },
  "language_info": {
   "codemirror_mode": {
    "name": "ipython",
    "version": 3
   },
   "file_extension": ".py",
   "mimetype": "text/x-python",
   "name": "python",
   "nbconvert_exporter": "python",
   "pygments_lexer": "ipython3",
   "version": "3.7.3"
  }
 },
 "nbformat": 4,
 "nbformat_minor": 2
}
