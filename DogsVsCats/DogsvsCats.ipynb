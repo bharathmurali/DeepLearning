{
 "cells": [
  {
   "cell_type": "markdown",
   "metadata": {},
   "source": [
    "# Classification of Images between Dogs and Cats"
   ]
  },
  {
   "cell_type": "code",
   "execution_count": null,
   "metadata": {},
   "outputs": [],
   "source": [
    "import numpy as np\n",
    "import matplotlib.pyplot as plt\n",
    "import tensorflow as tf\n",
    "import os\n",
    "import random\n",
    "from shutil import copyfile"
   ]
  },
  {
   "cell_type": "code",
   "execution_count": null,
   "metadata": {},
   "outputs": [],
   "source": [
    "print (len(os.listdir('Data/PetImages/Cat/')))\n",
    "print (len(os.listdir('Data/PetImages/Dog/')))"
   ]
  },
  {
   "cell_type": "markdown",
   "metadata": {},
   "source": [
    "# Creating the directory structure for the Training and Test Data"
   ]
  },
  {
   "cell_type": "code",
   "execution_count": null,
   "metadata": {},
   "outputs": [],
   "source": [
    "os.mkdir('Data/cats-v-dogs')\n",
    "os.mkdir('Data/cats-v-dogs/training')\n",
    "os.mkdir('Data/cats-v-dogs/testing')\n",
    "os.mkdir('Data/cats-v-dogs/training/dogs')\n",
    "os.mkdir('Data/cats-v-dogs/training/cats')\n",
    "os.mkdir('Data/cats-v-dogs/testing/dogs')\n",
    "os.mkdir('Data/cats-v-dogs/testing/cats')"
   ]
  },
  {
   "cell_type": "code",
   "execution_count": null,
   "metadata": {},
   "outputs": [],
   "source": [
    "# Function to split the data into training and test sets with randomized shuffle\n",
    "\n",
    "def split_data(Source,Training,Testing,Split_size):\n",
    "    files = []\n",
    "    for filename in os.listdir(Source):\n",
    "        file = Source + filename\n",
    "        if os.path.getsize(file) > 0:\n",
    "            files.append(filename)\n",
    "        else:\n",
    "            print (filename + \" \" + \"is zero size file\")\n",
    "    # Splitting based on random set\n",
    "    training_length = int(len(files)*Split_size)\n",
    "    testing_length = int(len(files)-training_length)\n",
    "    shuffled_set = random.sample(files,len(files))\n",
    "    training_set = shuffled_set[0:training_length]\n",
    "    testing_set = shuffled_set[-testing_length:]\n",
    "    \n",
    "    #copying the file \n",
    "    for filename in training_set:\n",
    "        this_file = Source + filename\n",
    "        destination = Training + filename\n",
    "        copyfile(this_file,destination)\n",
    "    for filename in testing_set:\n",
    "        this_file = Source + filename\n",
    "        destination = Testing + filename\n",
    "        copyfile(this_file,destination)\n",
    "        \n",
    "Cat_Source_Dir = 'Data/PetImages/Cat/'\n",
    "Cat_Training_Dir = 'Data/cats-v-dogs/training/cats/'\n",
    "Cat_Testing_Dir = 'Data/cats-v-dogs/testing/cats/'\n",
    "Dog_Source_Dir = 'Data/PetImages/Dog/'\n",
    "Dog_Training_Dir = 'Data/cats-v-dogs/training/dogs/'\n",
    "Dog_Testing_Dir = 'Data/cats-v-dogs/testing/dogs/'\n",
    "\n",
    "split_size = 0.9\n",
    "split_data(Cat_Source_Dir,Cat_Training_Dir,Cat_Testing_Dir,split_size)\n",
    "split_data(Dog_Source_Dir,Dog_Training_Dir,Dog_Testing_Dir,split_size)\n",
    "\n",
    "\n",
    "     "
   ]
  },
  {
   "cell_type": "code",
   "execution_count": null,
   "metadata": {},
   "outputs": [],
   "source": [
    "print (len(os.listdir('Data/cats-v-dogs/training/dogs/')))\n",
    "print (len(os.listdir('Data/cats-v-dogs/training/cats/')))\n",
    "print (len(os.listdir('Data/cats-v-dogs/testing/dogs/')))\n",
    "print (len(os.listdir('Data/cats-v-dogs/testing/cats/')))"
   ]
  },
  {
   "cell_type": "markdown",
   "metadata": {},
   "source": [
    "# Building a simple CNN model"
   ]
  },
  {
   "cell_type": "code",
   "execution_count": null,
   "metadata": {},
   "outputs": [],
   "source": [
    "model = tf.keras.models.Sequential([\n",
    "    \n",
    "    tf.keras.layers.Conv2D(16,(3,3),activation='relu',input_shape=(150,150,3)),\n",
    "    tf.keras.layers.MaxPooling2D(2,2),\n",
    "    tf.keras.layers.Conv2D(32,(3,3),activation='relu'),\n",
    "    tf.keras.layers.MaxPooling2D(2,2),\n",
    "    tf.keras.layers.Conv2D(64,(3,3),activation='relu'),\n",
    "    tf.keras.layers.MaxPooling2D(2,2),\n",
    "    tf.keras.layers.Flatten(),\n",
    "    tf.keras.layers.Dense(512,activation='relu'),\n",
    "    tf.keras.layers.Dense(1,activation='sigmoid')\n",
    "])"
   ]
  },
  {
   "cell_type": "code",
   "execution_count": null,
   "metadata": {},
   "outputs": [],
   "source": [
    "model.summary()"
   ]
  },
  {
   "cell_type": "code",
   "execution_count": null,
   "metadata": {},
   "outputs": [],
   "source": [
    "from tensorflow.keras.optimizers import RMSprop\n",
    "from tensorflow.keras.preprocessing.image import ImageDataGenerator\n",
    "model.compile(optimizer=RMSprop(lr=0.001),loss='binary_crossentropy',metrics=['acc'])"
   ]
  },
  {
   "cell_type": "markdown",
   "metadata": {},
   "source": [
    "# Data through Image Generator"
   ]
  },
  {
   "cell_type": "code",
   "execution_count": null,
   "metadata": {},
   "outputs": [],
   "source": [
    "Training_Dir = 'Data/cats-v-dogs/training'\n",
    "train_gen = ImageDataGenerator(rescale=1.0/255.)\n",
    "training_generator = train_gen.flow_from_directory(directory=Training_Dir,batch_size=100,class_mode='binary',target_size=(150,150))\n",
    "\n",
    "\n",
    "\n",
    "Validation_Dir ='Data/cats-v-dogs/testing/'\n",
    "validation_gen = ImageDataGenerator(rescale=1.0/255.)\n",
    "validation_generator = validation_gen.flow_from_directory(directory=Validation_Dir,batch_size=100,class_mode='binary',target_size=(150,150))"
   ]
  },
  {
   "cell_type": "code",
   "execution_count": null,
   "metadata": {},
   "outputs": [],
   "source": [
    "history = model.fit_generator(training_generator,epochs=20,verbose=1,validation_data=validation_generator)"
   ]
  },
  {
   "cell_type": "code",
   "execution_count": null,
   "metadata": {},
   "outputs": [],
   "source": []
  }
 ],
 "metadata": {
  "kernelspec": {
   "display_name": "Python 3",
   "language": "python",
   "name": "python3"
  },
  "language_info": {
   "codemirror_mode": {
    "name": "ipython",
    "version": 3
   },
   "file_extension": ".py",
   "mimetype": "text/x-python",
   "name": "python",
   "nbconvert_exporter": "python",
   "pygments_lexer": "ipython3",
   "version": "3.7.3"
  }
 },
 "nbformat": 4,
 "nbformat_minor": 2
}
