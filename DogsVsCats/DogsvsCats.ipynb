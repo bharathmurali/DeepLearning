{
 "cells": [
  {
   "cell_type": "markdown",
   "metadata": {},
   "source": [
    "# Classification of Images between Dogs and Cats"
   ]
  },
  {
   "cell_type": "code",
   "execution_count": 1,
   "metadata": {},
   "outputs": [],
   "source": [
    "import numpy as np\n",
    "import matplotlib.pyplot as plt\n",
    "import tensorflow as tf\n",
    "import os\n",
    "import random\n",
    "from shutil import copyfile"
   ]
  },
  {
   "cell_type": "code",
   "execution_count": 2,
   "metadata": {},
   "outputs": [
    {
     "name": "stdout",
     "output_type": "stream",
     "text": [
      "12501\n",
      "12501\n"
     ]
    }
   ],
   "source": [
    "print (len(os.listdir('Data/PetImages/Cat/')))\n",
    "print (len(os.listdir('Data/PetImages/Dog/')))"
   ]
  },
  {
   "cell_type": "markdown",
   "metadata": {},
   "source": [
    "# Creating the directory structure for the Training and Test Data"
   ]
  },
  {
   "cell_type": "code",
   "execution_count": 3,
   "metadata": {},
   "outputs": [],
   "source": [
    "os.mkdir('Data/cats-v-dogs')\n",
    "os.mkdir('Data/cats-v-dogs/training')\n",
    "os.mkdir('Data/cats-v-dogs/testing')\n",
    "os.mkdir('Data/cats-v-dogs/training/dogs')\n",
    "os.mkdir('Data/cats-v-dogs/training/cats')\n",
    "os.mkdir('Data/cats-v-dogs/testing/dogs')\n",
    "os.mkdir('Data/cats-v-dogs/testing/cats')"
   ]
  },
  {
   "cell_type": "code",
   "execution_count": 14,
   "metadata": {},
   "outputs": [
    {
     "name": "stdout",
     "output_type": "stream",
     "text": [
      "666.jpg is zero size file\n",
      "11702.jpg is zero size file\n"
     ]
    }
   ],
   "source": [
    "# Function to split the data into training and test sets with randomized shuffle\n",
    "\n",
    "def split_data(Source,Training,Testing,Split_size):\n",
    "    files = []\n",
    "    for filename in os.listdir(Source):\n",
    "        file = Source + filename\n",
    "        if os.path.getsize(file) > 0:\n",
    "            files.append(filename)\n",
    "        else:\n",
    "            print (filename + \" \" + \"is zero size file\")\n",
    "    # Splitting based on random set\n",
    "    training_length = int(len(files)*Split_size)\n",
    "    testing_length = int(len(files)-training_length)\n",
    "    shuffled_set = random.sample(files,len(files))\n",
    "    training_set = shuffled_set[0:training_length]\n",
    "    testing_set = shuffled_set[-testing_length:]\n",
    "    \n",
    "    #copying the file \n",
    "    for filename in training_set:\n",
    "        this_file = Source + filename\n",
    "        destination = Training + filename\n",
    "        copyfile(this_file,destination)\n",
    "    for filename in testing_set:\n",
    "        this_file = Source + filename\n",
    "        destination = Testing + filename\n",
    "        copyfile(this_file,destination)\n",
    "        \n",
    "Cat_Source_Dir = 'Data/PetImages/Cat/'\n",
    "Cat_Training_Dir = 'Data/cats-v-dogs/training/cats/'\n",
    "Cat_Testing_Dir = 'Data/cats-v-dogs/testing/cats/'\n",
    "Dog_Source_Dir = 'Data/PetImages/Dog/'\n",
    "Dog_Training_Dir = 'Data/cats-v-dogs/training/dogs/'\n",
    "Dog_Testing_Dir = 'Data/cats-v-dogs/testing/dogs/'\n",
    "\n",
    "split_size = 0.9\n",
    "split_data(Cat_Source_Dir,Cat_Training_Dir,Cat_Testing_Dir,split_size)\n",
    "split_data(Dog_Source_Dir,Dog_Training_Dir,Dog_Testing_Dir,split_size)\n",
    "\n",
    "\n",
    "     "
   ]
  },
  {
   "cell_type": "code",
   "execution_count": 15,
   "metadata": {},
   "outputs": [
    {
     "name": "stdout",
     "output_type": "stream",
     "text": [
      "12385\n",
      "12362\n",
      "2385\n",
      "2362\n"
     ]
    }
   ],
   "source": [
    "print (len(os.listdir('Data/cats-v-dogs/training/dogs/')))\n",
    "print (len(os.listdir('Data/cats-v-dogs/training/cats/')))\n",
    "print (len(os.listdir('Data/cats-v-dogs/testing/dogs/')))\n",
    "print (len(os.listdir('Data/cats-v-dogs/testing/cats/')))"
   ]
  },
  {
   "cell_type": "markdown",
   "metadata": {},
   "source": [
    "# Building a simple CNN model"
   ]
  },
  {
   "cell_type": "code",
   "execution_count": 6,
   "metadata": {},
   "outputs": [
    {
     "name": "stdout",
     "output_type": "stream",
     "text": [
      "WARNING:tensorflow:From /anaconda3/lib/python3.7/site-packages/tensorflow/python/ops/resource_variable_ops.py:435: colocate_with (from tensorflow.python.framework.ops) is deprecated and will be removed in a future version.\n",
      "Instructions for updating:\n",
      "Colocations handled automatically by placer.\n"
     ]
    }
   ],
   "source": [
    "model = tf.keras.models.Sequential([\n",
    "    \n",
    "    tf.keras.layers.Conv2D(16,(3,3),activation='relu',input_shape=(150,150,3)),\n",
    "    tf.keras.layers.MaxPooling2D(2,2),\n",
    "    tf.keras.layers.Conv2D(32,(3,3),activation='relu'),\n",
    "    tf.keras.layers.MaxPooling2D(2,2),\n",
    "    tf.keras.layers.Conv2D(64,(3,3),activation='relu'),\n",
    "    tf.keras.layers.MaxPooling2D(2,2),\n",
    "    tf.keras.layers.Flatten(),\n",
    "    tf.keras.layers.Dense(512,activation='relu'),\n",
    "    tf.keras.layers.Dense(1,activation='sigmoid')\n",
    "])"
   ]
  },
  {
   "cell_type": "code",
   "execution_count": 7,
   "metadata": {},
   "outputs": [
    {
     "name": "stdout",
     "output_type": "stream",
     "text": [
      "_________________________________________________________________\n",
      "Layer (type)                 Output Shape              Param #   \n",
      "=================================================================\n",
      "conv2d (Conv2D)              (None, 148, 148, 16)      448       \n",
      "_________________________________________________________________\n",
      "max_pooling2d (MaxPooling2D) (None, 74, 74, 16)        0         \n",
      "_________________________________________________________________\n",
      "conv2d_1 (Conv2D)            (None, 72, 72, 32)        4640      \n",
      "_________________________________________________________________\n",
      "max_pooling2d_1 (MaxPooling2 (None, 36, 36, 32)        0         \n",
      "_________________________________________________________________\n",
      "conv2d_2 (Conv2D)            (None, 34, 34, 64)        18496     \n",
      "_________________________________________________________________\n",
      "max_pooling2d_2 (MaxPooling2 (None, 17, 17, 64)        0         \n",
      "_________________________________________________________________\n",
      "flatten (Flatten)            (None, 18496)             0         \n",
      "_________________________________________________________________\n",
      "dense (Dense)                (None, 512)               9470464   \n",
      "_________________________________________________________________\n",
      "dense_1 (Dense)              (None, 1)                 513       \n",
      "=================================================================\n",
      "Total params: 9,494,561\n",
      "Trainable params: 9,494,561\n",
      "Non-trainable params: 0\n",
      "_________________________________________________________________\n"
     ]
    }
   ],
   "source": [
    "model.summary()"
   ]
  },
  {
   "cell_type": "code",
   "execution_count": 8,
   "metadata": {},
   "outputs": [],
   "source": [
    "from tensorflow.keras.optimizers import RMSprop\n",
    "from tensorflow.keras.preprocessing.image import ImageDataGenerator\n",
    "class MyCallbacks(tf.keras.callbacks.Callback):\n",
    "    \n",
    "    def on_stop_epoch(self,epoch,logs={}):\n",
    "        if (logs.get('acc') > .95):\n",
    "            print (\"The model has reached 51% accuracy so stopping the training now....\")\n",
    "            self.model.stop_training=True\n",
    "            \n",
    "        \n",
    "callbacks = MyCallbacks()\n",
    "model.compile(optimizer=RMSprop(lr=0.001),loss='binary_crossentropy',metrics=['acc'])"
   ]
  },
  {
   "cell_type": "markdown",
   "metadata": {},
   "source": [
    "# Data through Image Generator"
   ]
  },
  {
   "cell_type": "code",
   "execution_count": 16,
   "metadata": {},
   "outputs": [
    {
     "name": "stdout",
     "output_type": "stream",
     "text": [
      "Found 24745 images belonging to 2 classes.\n",
      "Found 4746 images belonging to 2 classes.\n"
     ]
    }
   ],
   "source": [
    "Training_Dir = 'Data/cats-v-dogs/training'\n",
    "train_gen = ImageDataGenerator(rescale=1.0/255.,\n",
    "                               rotation_range=50,\n",
    "                               width_shift_range=0.2,\n",
    "                               height_shift_range=0.2,\n",
    "                               vertical_flip=True,\n",
    "                               horizontal_flip= True\n",
    "                               )\n",
    "training_generator = train_gen.flow_from_directory(directory=Training_Dir,batch_size=32,class_mode='binary',target_size=(150,150))\n",
    "\n",
    "\n",
    "\n",
    "Validation_Dir ='Data/cats-v-dogs/testing/'\n",
    "validation_gen = ImageDataGenerator(rescale=1.0/255.,\n",
    "                                    rotation_range=50,\n",
    "                                   width_shift_range=0.2,\n",
    "                                   height_shift_range=0.2,\n",
    "                                   vertical_flip=True,\n",
    "                                   horizontal_flip= True\n",
    "                                   )\n",
    "validation_generator = validation_gen.flow_from_directory(directory=Validation_Dir,batch_size=32,class_mode='binary',target_size=(150,150))"
   ]
  },
  {
   "cell_type": "code",
   "execution_count": 17,
   "metadata": {},
   "outputs": [
    {
     "name": "stdout",
     "output_type": "stream",
     "text": [
      "Epoch 1/2\n",
      "149/149 [==============================] - 46s 306ms/step - loss: 0.5424 - acc: 0.7290\n",
      "774/774 [==============================] - 382s 493ms/step - loss: 0.5416 - acc: 0.7314 - val_loss: 0.5424 - val_acc: 0.7290\n",
      "Epoch 2/2\n",
      "149/149 [==============================] - 46s 309ms/step - loss: 0.5472 - acc: 0.7278\n",
      "774/774 [==============================] - 385s 497ms/step - loss: 0.5282 - acc: 0.7406 - val_loss: 0.5472 - val_acc: 0.7278\n"
     ]
    }
   ],
   "source": [
    "history = model.fit_generator(training_generator,epochs=2,verbose=1,validation_data=validation_generator,callbacks=[callbacks])"
   ]
  },
  {
   "cell_type": "markdown",
   "metadata": {},
   "source": [
    "# Plotting the accuracy and the loss on both training and validation set"
   ]
  },
  {
   "cell_type": "code",
   "execution_count": 11,
   "metadata": {},
   "outputs": [
    {
     "data": {
      "image/png": "[encoded data removed]",
      "text/plain": [
       "<Figure size 432x288 with 1 Axes>"
      ]
     },
     "metadata": {
      "needs_background": "light"
     },
     "output_type": "display_data"
    },
    {
     "data": {
      "image/png": "[encoded data removed]",
      "text/plain": [
       "<Figure size 432x288 with 1 Axes>"
      ]
     },
     "metadata": {
      "needs_background": "light"
     },
     "output_type": "display_data"
    }
   ],
   "source": [
    "import matplotlib.image as mpimg\n",
    "import matplotlib.pyplot as plt\n",
    "\n",
    "acc = history.history['acc']\n",
    "val_acc = history.history['val_acc']\n",
    "loss = history.history['loss']\n",
    "val_loss = history.history['val_loss']\n",
    "\n",
    "epochs = range(len(acc))\n",
    "plt.plot(epochs,acc,'r',\"Training_Accuracy\")\n",
    "plt.plot(epochs,val_acc,'b',\"Validation_Accuracy\")\n",
    "plt.title('Training and Validation Accuracy')\n",
    "plt.show()\n",
    "\n",
    "plt.plot(epochs,loss,'r',\"Training_Loss\")\n",
    "plt.plot(epochs,val_loss,'b',\"Validation_Loss\")\n",
    "plt.title('Training and Validation Loss')\n",
    "plt.show()\n",
    "\n"
   ]
  },
  {
   "cell_type": "code",
   "execution_count": null,
   "metadata": {},
   "outputs": [],
   "source": []
  }
 ],
 "metadata": {
  "kernelspec": {
   "display_name": "Python 3",
   "language": "python",
   "name": "python3"
  },
  "language_info": {
   "codemirror_mode": {
    "name": "ipython",
    "version": 3
   },
   "file_extension": ".py",
   "mimetype": "text/x-python",
   "name": "python",
   "nbconvert_exporter": "python",
   "pygments_lexer": "ipython3",
   "version": "3.7.3"
  }
 },
 "nbformat": 4,
 "nbformat_minor": 2
}
