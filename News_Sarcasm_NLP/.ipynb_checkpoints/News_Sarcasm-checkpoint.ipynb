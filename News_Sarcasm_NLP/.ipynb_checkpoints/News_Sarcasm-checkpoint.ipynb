{
 "cells": [
  {
   "cell_type": "code",
   "execution_count": 1,
   "metadata": {},
   "outputs": [],
   "source": [
    "import json\n",
    "import tensorflow as tf\n",
    "#import tensorflow.keras.optimizers import RMSprop"
   ]
  },
  {
   "cell_type": "markdown",
   "metadata": {},
   "source": [
    "# Reading the data from the json file"
   ]
  },
  {
   "cell_type": "code",
   "execution_count": 2,
   "metadata": {},
   "outputs": [],
   "source": [
    "with open('sarcasm.json','r') as f:\n",
    "    datastore = json.load(f)\n",
    "    \n",
    "sentences = []\n",
    "labels = []\n",
    "#urls = []\n",
    "\n",
    "for item in datastore:\n",
    "    sentences.append(item['headline'])\n",
    "    labels.append(item['is_sarcastic'])\n",
    "    #urls.append(item['article_link'])"
   ]
  },
  {
   "cell_type": "code",
   "execution_count": 3,
   "metadata": {},
   "outputs": [],
   "source": [
    "total_data = len(sentences)"
   ]
  },
  {
   "cell_type": "markdown",
   "metadata": {},
   "source": [
    "# Tokenzing the words from the sentences"
   ]
  },
  {
   "cell_type": "code",
   "execution_count": 4,
   "metadata": {},
   "outputs": [],
   "source": [
    "from tensorflow.keras.preprocessing.text import Tokenizer\n",
    "from tensorflow.keras.preprocessing.sequence import pad_sequences"
   ]
  },
  {
   "cell_type": "code",
   "execution_count": 5,
   "metadata": {},
   "outputs": [],
   "source": [
    "vocab_size = 10000\n",
    "embedding_dim = 16\n",
    "max_length = 100\n",
    "trunc_type = 'post'\n",
    "padding_type = 'post'\n",
    "oov_tok = \"<OOV>\"\n",
    "training_size = 20000\n",
    "#print (len(sentences))\n",
    "dev_set = total_data - training_size - 1000\n",
    "test_set = total_data- training_size - dev_set\n",
    "dv_test = training_size+dev_set\n",
    "testset = dv_test+test_set"
   ]
  },
  {
   "cell_type": "markdown",
   "metadata": {},
   "source": [
    "# Dividing the data into training , dev and test sets"
   ]
  },
  {
   "cell_type": "code",
   "execution_count": 6,
   "metadata": {},
   "outputs": [],
   "source": [
    "training_sentences = sentences[0:training_size]\n",
    "training_labels = labels[0:training_size]\n",
    "Dev_set = sentences[training_size:dv_test]\n",
    "Dev_set_labels = labels[training_size:dv_test]\n",
    "testing_sentences = sentences[dv_test:testset]\n",
    "testing_labels = labels[dv_test:testset]"
   ]
  },
  {
   "cell_type": "code",
   "execution_count": 7,
   "metadata": {},
   "outputs": [],
   "source": [
    "tokenizer = Tokenizer(num_words = vocab_size,oov_token=oov_tok)\n",
    "tokenizer.fit_on_texts(training_sentences)"
   ]
  },
  {
   "cell_type": "code",
   "execution_count": 8,
   "metadata": {},
   "outputs": [],
   "source": [
    "word_index = tokenizer.word_index\n",
    "#print (word_index)"
   ]
  },
  {
   "cell_type": "code",
   "execution_count": 9,
   "metadata": {},
   "outputs": [],
   "source": [
    "training_sequences = tokenizer.texts_to_sequences(training_sentences)\n",
    "training_padded = pad_sequences(training_sequences,padding=padding_type,maxlen=max_length,truncating=trunc_type)\n",
    "\n",
    "devset_sequences = tokenizer.texts_to_sequences(Dev_set)\n",
    "devset_padded = pad_sequences(devset_sequences,padding=padding_type,maxlen=max_length,truncating=trunc_type)\n",
    "\n",
    "testing_sequences = tokenizer.texts_to_sequences(testing_sentences)\n",
    "testing_padded = pad_sequences(testing_sequences,padding=padding_type,maxlen=max_length,truncating=trunc_type)"
   ]
  },
  {
   "cell_type": "code",
   "execution_count": 32,
   "metadata": {},
   "outputs": [
    {
     "name": "stdout",
     "output_type": "stream",
     "text": [
      "beanie broker urges storkholders to sell\n",
      "[   1    1  922    1    2 3557    0    0    0    0    0    0    0    0\n",
      "    0    0    0    0    0    0    0    0    0    0    0    0    0    0\n",
      "    0    0    0    0    0    0    0    0    0    0    0    0    0    0\n",
      "    0    0    0    0    0    0    0    0    0    0    0    0    0    0\n",
      "    0    0    0    0    0    0    0    0    0    0    0    0    0    0\n",
      "    0    0    0    0    0    0    0    0    0    0    0    0    0    0\n",
      "    0    0    0    0    0    0    0    0    0    0    0    0    0    0\n",
      "    0    0]\n",
      "1\n"
     ]
    }
   ],
   "source": [
    "print (testing_sentences[2])\n",
    "print (testing_padded[2])\n",
    "\n",
    "print (testing_labels[2])\n",
    "\n"
   ]
  },
  {
   "cell_type": "markdown",
   "metadata": {},
   "source": [
    "# Building a simple model"
   ]
  },
  {
   "cell_type": "code",
   "execution_count": 11,
   "metadata": {},
   "outputs": [
    {
     "name": "stdout",
     "output_type": "stream",
     "text": [
      "WARNING:tensorflow:From /anaconda3/lib/python3.7/site-packages/tensorflow/python/ops/resource_variable_ops.py:435: colocate_with (from tensorflow.python.framework.ops) is deprecated and will be removed in a future version.\n",
      "Instructions for updating:\n",
      "Colocations handled automatically by placer.\n",
      "WARNING:tensorflow:From /anaconda3/lib/python3.7/site-packages/tensorflow/python/keras/layers/core.py:143: calling dropout (from tensorflow.python.ops.nn_ops) with keep_prob is deprecated and will be removed in a future version.\n",
      "Instructions for updating:\n",
      "Please use `rate` instead of `keep_prob`. Rate should be set to `rate = 1 - keep_prob`.\n"
     ]
    }
   ],
   "source": [
    "model = tf.keras.models.Sequential([\n",
    "    tf.keras.layers.Embedding(vocab_size,embedding_dim,input_length=max_length),\n",
    "    tf.keras.layers.GlobalAveragePooling1D(),\n",
    "    tf.keras.layers.Dense(40,activation='relu'),\n",
    "    tf.keras.layers.Dropout(0.4),\n",
    "    tf.keras.layers.Dense(24,activation='relu'),\n",
    "    tf.keras.layers.Dense(1,activation='sigmoid')\n",
    "]\n",
    ")"
   ]
  },
  {
   "cell_type": "code",
   "execution_count": 12,
   "metadata": {},
   "outputs": [
    {
     "name": "stdout",
     "output_type": "stream",
     "text": [
      "_________________________________________________________________\n",
      "Layer (type)                 Output Shape              Param #   \n",
      "=================================================================\n",
      "embedding (Embedding)        (None, 100, 16)           160000    \n",
      "_________________________________________________________________\n",
      "global_average_pooling1d (Gl (None, 16)                0         \n",
      "_________________________________________________________________\n",
      "dense (Dense)                (None, 40)                680       \n",
      "_________________________________________________________________\n",
      "dropout (Dropout)            (None, 40)                0         \n",
      "_________________________________________________________________\n",
      "dense_1 (Dense)              (None, 24)                984       \n",
      "_________________________________________________________________\n",
      "dense_2 (Dense)              (None, 1)                 25        \n",
      "=================================================================\n",
      "Total params: 161,689\n",
      "Trainable params: 161,689\n",
      "Non-trainable params: 0\n",
      "_________________________________________________________________\n"
     ]
    }
   ],
   "source": [
    "model.summary()"
   ]
  },
  {
   "cell_type": "code",
   "execution_count": 13,
   "metadata": {},
   "outputs": [],
   "source": [
    "model.compile(optimizer='adam',loss='binary_crossentropy',metrics=['accuracy'])"
   ]
  },
  {
   "cell_type": "code",
   "execution_count": 14,
   "metadata": {},
   "outputs": [
    {
     "name": "stdout",
     "output_type": "stream",
     "text": [
      "Train on 20000 samples, validate on 5709 samples\n",
      "WARNING:tensorflow:From /anaconda3/lib/python3.7/site-packages/tensorflow/python/ops/math_ops.py:3066: to_int32 (from tensorflow.python.ops.math_ops) is deprecated and will be removed in a future version.\n",
      "Instructions for updating:\n",
      "Use tf.cast instead.\n",
      "Epoch 1/20\n",
      "20000/20000 [==============================] - 1s 72us/sample - loss: 0.6471 - acc: 0.6033 - val_loss: 0.5351 - val_acc: 0.6963\n",
      "Epoch 2/20\n",
      "20000/20000 [==============================] - 1s 58us/sample - loss: 0.3681 - acc: 0.8473 - val_loss: 0.3537 - val_acc: 0.8529\n",
      "Epoch 3/20\n",
      "20000/20000 [==============================] - 1s 57us/sample - loss: 0.2687 - acc: 0.8942 - val_loss: 0.3545 - val_acc: 0.8446\n",
      "Epoch 4/20\n",
      "20000/20000 [==============================] - 1s 59us/sample - loss: 0.2183 - acc: 0.9164 - val_loss: 0.3537 - val_acc: 0.8555\n",
      "Epoch 5/20\n",
      "20000/20000 [==============================] - 1s 57us/sample - loss: 0.1821 - acc: 0.9347 - val_loss: 0.3797 - val_acc: 0.8508\n",
      "Epoch 6/20\n",
      "20000/20000 [==============================] - 1s 58us/sample - loss: 0.1536 - acc: 0.9459 - val_loss: 0.4156 - val_acc: 0.8506\n",
      "Epoch 7/20\n",
      "20000/20000 [==============================] - 1s 59us/sample - loss: 0.1327 - acc: 0.9563 - val_loss: 0.4294 - val_acc: 0.8473\n",
      "Epoch 8/20\n",
      "20000/20000 [==============================] - 1s 59us/sample - loss: 0.1215 - acc: 0.9603 - val_loss: 0.4881 - val_acc: 0.8404\n",
      "Epoch 9/20\n",
      "20000/20000 [==============================] - 1s 58us/sample - loss: 0.1085 - acc: 0.9655 - val_loss: 0.5216 - val_acc: 0.8336\n",
      "Epoch 10/20\n",
      "20000/20000 [==============================] - 1s 58us/sample - loss: 0.0912 - acc: 0.9729 - val_loss: 0.5431 - val_acc: 0.8371\n",
      "Epoch 11/20\n",
      "20000/20000 [==============================] - 1s 59us/sample - loss: 0.0853 - acc: 0.9737 - val_loss: 0.5974 - val_acc: 0.8350\n",
      "Epoch 12/20\n",
      "20000/20000 [==============================] - 1s 58us/sample - loss: 0.0778 - acc: 0.9748 - val_loss: 0.5515 - val_acc: 0.8369\n",
      "Epoch 13/20\n",
      "20000/20000 [==============================] - 1s 59us/sample - loss: 0.0665 - acc: 0.9778 - val_loss: 0.6891 - val_acc: 0.8315\n",
      "Epoch 14/20\n",
      "20000/20000 [==============================] - 1s 59us/sample - loss: 0.0579 - acc: 0.9812 - val_loss: 0.8080 - val_acc: 0.8248\n",
      "Epoch 15/20\n",
      "20000/20000 [==============================] - 1s 58us/sample - loss: 0.0576 - acc: 0.9814 - val_loss: 0.7339 - val_acc: 0.8282\n",
      "Epoch 16/20\n",
      "20000/20000 [==============================] - 1s 58us/sample - loss: 0.0488 - acc: 0.9829 - val_loss: 0.7127 - val_acc: 0.8261\n",
      "Epoch 17/20\n",
      "20000/20000 [==============================] - 1s 58us/sample - loss: 0.0443 - acc: 0.9840 - val_loss: 0.9287 - val_acc: 0.8219\n",
      "Epoch 18/20\n",
      "20000/20000 [==============================] - 1s 60us/sample - loss: 0.0387 - acc: 0.9855 - val_loss: 1.0603 - val_acc: 0.8085\n",
      "Epoch 19/20\n",
      "20000/20000 [==============================] - 1s 58us/sample - loss: 0.0378 - acc: 0.9862 - val_loss: 1.0261 - val_acc: 0.8226\n",
      "Epoch 20/20\n",
      "20000/20000 [==============================] - 1s 58us/sample - loss: 0.0422 - acc: 0.9838 - val_loss: 0.9190 - val_acc: 0.8157\n"
     ]
    }
   ],
   "source": [
    "num_epochs = 20\n",
    "history = model.fit(training_padded,training_labels,epochs=num_epochs,validation_data=(devset_padded,Dev_set_labels))"
   ]
  },
  {
   "cell_type": "code",
   "execution_count": 16,
   "metadata": {},
   "outputs": [
    {
     "data": {
      "image/png": "[encoded data removed]",
      "text/plain": [
       "<Figure size 432x288 with 1 Axes>"
      ]
     },
     "metadata": {
      "needs_background": "light"
     },
     "output_type": "display_data"
    },
    {
     "data": {
      "image/png": "[encoded data removed]",
      "text/plain": [
       "<Figure size 432x288 with 1 Axes>"
      ]
     },
     "metadata": {
      "needs_background": "light"
     },
     "output_type": "display_data"
    }
   ],
   "source": [
    "import matplotlib.pyplot as plt\n",
    "\n",
    "plt.plot(history.history['acc'])\n",
    "plt.plot(history.history['val_acc'])\n",
    "plt.xlabel('Epochs')\n",
    "plt.ylabel('accuracy')\n",
    "plt.legend(['acc','val_acc'])\n",
    "plt.show()\n",
    "\n",
    "plt.plot(history.history['loss'])\n",
    "plt.plot(history.history['val_loss'])\n",
    "plt.xlabel('Epochs')\n",
    "plt.ylabel('Loss')\n",
    "plt.legend(['loss','val_loss'])\n",
    "plt.show()\n"
   ]
  },
  {
   "cell_type": "code",
   "execution_count": 17,
   "metadata": {},
   "outputs": [
    {
     "name": "stdout",
     "output_type": "stream",
     "text": [
      "former <OOV> store clerk sues over secret 'black <OOV> for minority shoppers ? ? ? ? ? ? ? ? ? ? ? ? ? ? ? ? ? ? ? ? ? ? ? ? ? ? ? ? ? ? ? ? ? ? ? ? ? ? ? ? ? ? ? ? ? ? ? ? ? ? ? ? ? ? ? ? ? ? ? ? ? ? ? ? ? ? ? ? ? ? ? ? ? ? ? ? ? ? ? ? ? ? ? ? ? ? ? ?\n",
      "[153, 890, 2, 891, 1445, 2215, 595, 5650, 221, 133, 36, 45, 2, 8864]\n"
     ]
    }
   ],
   "source": [
    "reverse_word_index = dict((value,key) for (key,value) in word_index.items())\n",
    "\n",
    "\n",
    "def decoded_senetences(text):\n",
    "    return ' '.join([reverse_word_index.get(i,'?') for i in text])\n",
    "\n",
    "print (decoded_senetences(training_padded[0]))\n",
    "print (training_sequences[2])"
   ]
  },
  {
   "cell_type": "code",
   "execution_count": null,
   "metadata": {},
   "outputs": [],
   "source": [
    "e = model.layers[0]\n",
    "weights = e.get_weights()[0]\n",
    "print (weights.shape)"
   ]
  },
  {
   "cell_type": "code",
   "execution_count": 34,
   "metadata": {},
   "outputs": [],
   "source": [
    "#model.predict_classes(testing_padded)\n"
   ]
  },
  {
   "cell_type": "code",
   "execution_count": 35,
   "metadata": {},
   "outputs": [
    {
     "name": "stdout",
     "output_type": "stream",
     "text": [
      "1000/1000 [==============================] - 0s 26us/sample - loss: 1.0176 - acc: 0.8100\n"
     ]
    }
   ],
   "source": [
    "loss,acc = model.evaluate(x=testing_padded,y=testing_labels)"
   ]
  },
  {
   "cell_type": "code",
   "execution_count": 42,
   "metadata": {},
   "outputs": [
    {
     "name": "stdout",
     "output_type": "stream",
     "text": [
      "The loss on the test set:  1.017607004404068\n",
      "The accuracy on the test set is :  81.00000023841858 %\n"
     ]
    }
   ],
   "source": [
    "print (\"The loss on the test set: \", loss)\n",
    "print (\"The accuracy on the test set is : \", acc*100 ,'%')"
   ]
  },
  {
   "cell_type": "code",
   "execution_count": null,
   "metadata": {},
   "outputs": [],
   "source": []
  }
 ],
 "metadata": {
  "kernelspec": {
   "display_name": "Python 3",
   "language": "python",
   "name": "python3"
  },
  "language_info": {
   "codemirror_mode": {
    "name": "ipython",
    "version": 3
   },
   "file_extension": ".py",
   "mimetype": "text/x-python",
   "name": "python",
   "nbconvert_exporter": "python",
   "pygments_lexer": "ipython3",
   "version": "3.7.3"
  }
 },
 "nbformat": 4,
 "nbformat_minor": 2
}
