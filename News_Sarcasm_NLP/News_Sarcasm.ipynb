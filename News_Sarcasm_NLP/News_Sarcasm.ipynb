{
 "cells": [
  {
   "cell_type": "code",
   "execution_count": 1,
   "metadata": {},
   "outputs": [],
   "source": [
    "import json\n",
    "import tensorflow as tf\n",
    "#import tensorflow.keras.optimizers import RMSprop"
   ]
  },
  {
   "cell_type": "markdown",
   "metadata": {},
   "source": [
    "# Reading the data from the json file"
   ]
  },
  {
   "cell_type": "code",
   "execution_count": 2,
   "metadata": {},
   "outputs": [],
   "source": [
    "with open('sarcasm.json','r') as f:\n",
    "    datastore = json.load(f)\n",
    "    \n",
    "    \n",
    "sentences = []\n",
    "labels = []\n",
    "#urls = []\n",
    "\n",
    "for item in datastore:\n",
    "    sentences.append(item['headline'])\n",
    "    labels.append(item['is_sarcastic'])\n",
    "    #urls.append(item['article_link'])"
   ]
  },
  {
   "cell_type": "markdown",
   "metadata": {},
   "source": [
    "# Tokenzing the words from the sentences"
   ]
  },
  {
   "cell_type": "code",
   "execution_count": 3,
   "metadata": {},
   "outputs": [],
   "source": [
    "from tensorflow.keras.preprocessing.text import Tokenizer\n",
    "from tensorflow.keras.preprocessing.sequence import pad_sequences"
   ]
  },
  {
   "cell_type": "code",
   "execution_count": 23,
   "metadata": {},
   "outputs": [],
   "source": [
    "vocab_size = 10000\n",
    "embedding_dim = 16\n",
    "max_length = 100\n",
    "trunc_type = 'post'\n",
    "padding_type = 'post'\n",
    "oov_tok = \"<OOV>\"\n",
    "training_size = 20000"
   ]
  },
  {
   "cell_type": "code",
   "execution_count": 24,
   "metadata": {},
   "outputs": [],
   "source": [
    "training_sentences = sentences[0:training_size]\n",
    "training_labels = labels[0:training_size]\n",
    "testing_sentences = sentences[training_size:]\n",
    "testing_labels = labels[training_size:]"
   ]
  },
  {
   "cell_type": "code",
   "execution_count": 33,
   "metadata": {},
   "outputs": [],
   "source": [
    "tokenizer = Tokenizer(num_words = vocab_size,oov_token=oov_tok)\n",
    "tokenizer.fit_on_texts(training_sentences)"
   ]
  },
  {
   "cell_type": "code",
   "execution_count": 34,
   "metadata": {},
   "outputs": [],
   "source": [
    "word_index = tokenizer.word_index"
   ]
  },
  {
   "cell_type": "code",
   "execution_count": 36,
   "metadata": {},
   "outputs": [],
   "source": [
    "training_sequences = tokenizer.texts_to_sequences(training_sentences)\n",
    "training_padded = pad_sequences(training_sequences,padding=padding_type,maxlen=max_length,truncating=trunc_type)\n",
    "\n",
    "testing_sequences = tokenizer.texts_to_sequences(testing_sentences)\n",
    "testing_padded = pad_sequences(testing_sequences,padding=padding_type,maxlen=max_length,truncating=trunc_type)"
   ]
  },
  {
   "cell_type": "code",
   "execution_count": 37,
   "metadata": {},
   "outputs": [
    {
     "name": "stdout",
     "output_type": "stream",
     "text": [
      "mom starting to fear son's web series closest thing she will have to grandchild\n",
      "[ 153  890    2  891 1445 2215  595 5650  221  133   36   45    2 8864\n",
      "    0    0    0    0    0    0    0    0    0    0    0    0    0    0\n",
      "    0    0    0    0    0    0    0    0    0    0    0    0    0    0\n",
      "    0    0    0    0    0    0    0    0    0    0    0    0    0    0\n",
      "    0    0    0    0    0    0    0    0    0    0    0    0    0    0\n",
      "    0    0    0    0    0    0    0    0    0    0    0    0    0    0\n",
      "    0    0    0    0    0    0    0    0    0    0    0    0    0    0\n",
      "    0    0]\n"
     ]
    }
   ],
   "source": [
    "print (training_sentences[2])\n",
    "print (training_padded[2])"
   ]
  },
  {
   "cell_type": "markdown",
   "metadata": {},
   "source": [
    "# Building a simple model"
   ]
  },
  {
   "cell_type": "code",
   "execution_count": 38,
   "metadata": {},
   "outputs": [],
   "source": [
    "model = tf.keras.models.Sequential([\n",
    "    tf.keras.layers.Embedding(vocab_size,embedding_dim,input_length=max_length),\n",
    "    tf.keras.layers.GlobalAveragePooling1D(),\n",
    "    tf.keras.layers.Dense(24,activation='relu'),\n",
    "    tf.keras.layers.Dense(1,activation='sigmoid')\n",
    "]\n",
    ")"
   ]
  },
  {
   "cell_type": "code",
   "execution_count": 39,
   "metadata": {},
   "outputs": [
    {
     "name": "stdout",
     "output_type": "stream",
     "text": [
      "_________________________________________________________________\n",
      "Layer (type)                 Output Shape              Param #   \n",
      "=================================================================\n",
      "embedding_4 (Embedding)      (None, 100, 16)           160000    \n",
      "_________________________________________________________________\n",
      "global_average_pooling1d_4 ( (None, 16)                0         \n",
      "_________________________________________________________________\n",
      "dense_8 (Dense)              (None, 24)                408       \n",
      "_________________________________________________________________\n",
      "dense_9 (Dense)              (None, 1)                 25        \n",
      "=================================================================\n",
      "Total params: 160,433\n",
      "Trainable params: 160,433\n",
      "Non-trainable params: 0\n",
      "_________________________________________________________________\n"
     ]
    }
   ],
   "source": [
    "model.summary()"
   ]
  },
  {
   "cell_type": "code",
   "execution_count": 40,
   "metadata": {},
   "outputs": [],
   "source": [
    "model.compile(optimizer='adam',loss='binary_crossentropy',metrics=['accuracy'])"
   ]
  },
  {
   "cell_type": "code",
   "execution_count": 41,
   "metadata": {},
   "outputs": [
    {
     "name": "stdout",
     "output_type": "stream",
     "text": [
      "Train on 20000 samples, validate on 6709 samples\n",
      "WARNING:tensorflow:From /anaconda3/lib/python3.7/site-packages/tensorflow/python/ops/math_ops.py:3066: to_int32 (from tensorflow.python.ops.math_ops) is deprecated and will be removed in a future version.\n",
      "Instructions for updating:\n",
      "Use tf.cast instead.\n",
      "Epoch 1/20\n",
      "20000/20000 [==============================] - 1s 69us/sample - loss: 0.6654 - acc: 0.5918 - val_loss: 0.5895 - val_acc: 0.7742\n",
      "Epoch 2/20\n",
      "20000/20000 [==============================] - 1s 54us/sample - loss: 0.4499 - acc: 0.8271 - val_loss: 0.3943 - val_acc: 0.8372\n",
      "Epoch 3/20\n",
      "20000/20000 [==============================] - 1s 54us/sample - loss: 0.3228 - acc: 0.8714 - val_loss: 0.3555 - val_acc: 0.8511\n",
      "Epoch 4/20\n",
      "20000/20000 [==============================] - 1s 54us/sample - loss: 0.2696 - acc: 0.8942 - val_loss: 0.3419 - val_acc: 0.8572\n",
      "Epoch 5/20\n",
      "20000/20000 [==============================] - 1s 54us/sample - loss: 0.2327 - acc: 0.9097 - val_loss: 0.3442 - val_acc: 0.8562\n",
      "Epoch 6/20\n",
      "20000/20000 [==============================] - 1s 54us/sample - loss: 0.2063 - acc: 0.9220 - val_loss: 0.3573 - val_acc: 0.8451\n",
      "Epoch 7/20\n",
      "20000/20000 [==============================] - 1s 58us/sample - loss: 0.1838 - acc: 0.9309 - val_loss: 0.3523 - val_acc: 0.8547\n",
      "Epoch 8/20\n",
      "20000/20000 [==============================] - 1s 54us/sample - loss: 0.1648 - acc: 0.9391 - val_loss: 0.3642 - val_acc: 0.8556\n",
      "Epoch 9/20\n",
      "20000/20000 [==============================] - 1s 53us/sample - loss: 0.1493 - acc: 0.9455 - val_loss: 0.4057 - val_acc: 0.8419\n",
      "Epoch 10/20\n",
      "20000/20000 [==============================] - 1s 54us/sample - loss: 0.1344 - acc: 0.9528 - val_loss: 0.3949 - val_acc: 0.8517\n",
      "Epoch 11/20\n",
      "20000/20000 [==============================] - 1s 54us/sample - loss: 0.1221 - acc: 0.9574 - val_loss: 0.4147 - val_acc: 0.8498\n",
      "Epoch 12/20\n",
      "20000/20000 [==============================] - 1s 54us/sample - loss: 0.1126 - acc: 0.9614 - val_loss: 0.4356 - val_acc: 0.8486\n",
      "Epoch 13/20\n",
      "20000/20000 [==============================] - 1s 54us/sample - loss: 0.1035 - acc: 0.9655 - val_loss: 0.4554 - val_acc: 0.8469\n",
      "Epoch 14/20\n",
      "20000/20000 [==============================] - 1s 55us/sample - loss: 0.0965 - acc: 0.9682 - val_loss: 0.4875 - val_acc: 0.8413\n",
      "Epoch 15/20\n",
      "20000/20000 [==============================] - 1s 54us/sample - loss: 0.0868 - acc: 0.9712 - val_loss: 0.5260 - val_acc: 0.8365\n",
      "Epoch 16/20\n",
      "20000/20000 [==============================] - 1s 54us/sample - loss: 0.0816 - acc: 0.9739 - val_loss: 0.5283 - val_acc: 0.8372\n",
      "Epoch 17/20\n",
      "20000/20000 [==============================] - 1s 54us/sample - loss: 0.0739 - acc: 0.9761 - val_loss: 0.5473 - val_acc: 0.8392\n",
      "Epoch 18/20\n",
      "20000/20000 [==============================] - 1s 53us/sample - loss: 0.0691 - acc: 0.9780 - val_loss: 0.5933 - val_acc: 0.8293\n",
      "Epoch 19/20\n",
      "20000/20000 [==============================] - 1s 55us/sample - loss: 0.0626 - acc: 0.9808 - val_loss: 0.6135 - val_acc: 0.8326\n",
      "Epoch 20/20\n",
      "20000/20000 [==============================] - 1s 54us/sample - loss: 0.0595 - acc: 0.9814 - val_loss: 0.6299 - val_acc: 0.8331\n"
     ]
    }
   ],
   "source": [
    "num_epochs = 20\n",
    "history = model.fit(training_padded,training_labels,epochs=num_epochs,validation_data=(testing_padded,testing_labels))"
   ]
  },
  {
   "cell_type": "code",
   "execution_count": 52,
   "metadata": {},
   "outputs": [
    {
     "data": {
      "image/png": "[encoded data removed]",
      "text/plain": [
       "<Figure size 432x288 with 1 Axes>"
      ]
     },
     "metadata": {
      "needs_background": "light"
     },
     "output_type": "display_data"
    },
    {
     "data": {
      "image/png": "[encoded data removed]",
      "text/plain": [
       "<Figure size 432x288 with 1 Axes>"
      ]
     },
     "metadata": {
      "needs_background": "light"
     },
     "output_type": "display_data"
    }
   ],
   "source": [
    "import matplotlib.pyplot as plt\n",
    "\n",
    "plt.plot(history.history['acc'])\n",
    "plt.plot(history.history['val_acc'])\n",
    "plt.xlabel('Epochs')\n",
    "plt.ylabel('accuracy')\n",
    "plt.legend(['acc','val_acc'])\n",
    "plt.show()\n",
    "\n",
    "plt.plot(history.history['loss'])\n",
    "plt.plot(history.history['val_loss'])\n",
    "plt.xlabel('Epochs')\n",
    "plt.ylabel('Loss')\n",
    "plt.legend(['loss','val_loss'])\n",
    "plt.show()\n"
   ]
  },
  {
   "cell_type": "code",
   "execution_count": 63,
   "metadata": {},
   "outputs": [
    {
     "name": "stdout",
     "output_type": "stream",
     "text": [
      "former <OOV> store clerk sues over secret 'black <OOV> for minority shoppers ? ? ? ? ? ? ? ? ? ? ? ? ? ? ? ? ? ? ? ? ? ? ? ? ? ? ? ? ? ? ? ? ? ? ? ? ? ? ? ? ? ? ? ? ? ? ? ? ? ? ? ? ? ? ? ? ? ? ? ? ? ? ? ? ? ? ? ? ? ? ? ? ? ? ? ? ? ? ? ? ? ? ? ? ? ? ? ?\n",
      "[153, 890, 2, 891, 1445, 2215, 595, 5650, 221, 133, 36, 45, 2, 8864]\n"
     ]
    }
   ],
   "source": [
    "reverse_word_index = dict((value,key) for (key,value) in word_index.items())\n",
    "\n",
    "\n",
    "def decoded_senetences(text):\n",
    "    return ' '.join([reverse_word_index.get(i,'?') for i in text])\n",
    "\n",
    "print (decoded_senetences(training_padded[0]))\n",
    "print (training_sequences[2])"
   ]
  },
  {
   "cell_type": "code",
   "execution_count": 68,
   "metadata": {},
   "outputs": [
    {
     "name": "stdout",
     "output_type": "stream",
     "text": [
      "(10000, 16)\n"
     ]
    }
   ],
   "source": [
    "e = model.layers[0]\n",
    "weights = e.get_weights()[0]\n",
    "print (weights.shape)"
   ]
  },
  {
   "cell_type": "code",
   "execution_count": null,
   "metadata": {},
   "outputs": [],
   "source": []
  }
 ],
 "metadata": {
  "kernelspec": {
   "display_name": "Python 3",
   "language": "python",
   "name": "python3"
  },
  "language_info": {
   "codemirror_mode": {
    "name": "ipython",
    "version": 3
   },
   "file_extension": ".py",
   "mimetype": "text/x-python",
   "name": "python",
   "nbconvert_exporter": "python",
   "pygments_lexer": "ipython3",
   "version": "3.7.3"
  }
 },
 "nbformat": 4,
 "nbformat_minor": 2
}
